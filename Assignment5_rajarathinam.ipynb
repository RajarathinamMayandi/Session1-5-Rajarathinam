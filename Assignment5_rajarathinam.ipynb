{
 "cells": [
  {
   "cell_type": "code",
   "execution_count": 1,
   "metadata": {},
   "outputs": [
    {
     "name": "stdout",
     "output_type": "stream",
     "text": [
      "Hello World\n"
     ]
    }
   ],
   "source": [
    "##=============================================Assignment1==================================================================\n",
    "#1. Install Jupyter notebook and run the first program and share the screenshot of the output.\n",
    "print(\"Hello World\")"
   ]
  },
  {
   "cell_type": "code",
   "execution_count": 36,
   "metadata": {},
   "outputs": [
    {
     "name": "stdout",
     "output_type": "stream",
     "text": [
      "2002,2009,2016,2023,2037,2044,2051,2058,2072,2079,2086,2093,2107,2114,2121,2128,2142,2149,2156,2163,2177,2184,2191,2198,2212,2219,2226,2233,2247,2254,2261,2268,2282,2289,2296,2303,2317,2324,2331,2338,2352,2359,2366,2373,2387,2394,2401,2408,2422,2429,2436,2443,2457,2464,2471,2478,2492,2499,2506,2513,2527,2534,2541,2548,2562,2569,2576,2583,2597,2604,2611,2618,2632,2639,2646,2653,2667,2674,2681,2688,2702,2709,2716,2723,2737,2744,2751,2758,2772,2779,2786,2793,2807,2814,2821,2828,2842,2849,2856,2863,2877,2884,2891,2898,2912,2919,2926,2933,2947,2954,2961,2968,2982,2989,2996,3003,3017,3024,3031,3038,3052,3059,3066,3073,3087,3094,3101,3108,3122,3129,3136,3143,3157,3164,3171,3178,3192,3199,"
     ]
    }
   ],
   "source": [
    "#2. Write a program which will find all such numbers which are divisible by 7 but are not a multiple of 5, \n",
    "#between 2000 and 3200 (both included). The numbers obtained should be printed in a comma-separated sequence \n",
    "#on a single line.\n",
    "\n",
    "for i in range(2000,3200):\n",
    "    \n",
    "    if(i%7==0 and i%5!=0):\n",
    "        a=str(i)+','\n",
    "        print(a,end='')"
   ]
  },
  {
   "cell_type": "code",
   "execution_count": 57,
   "metadata": {},
   "outputs": [
    {
     "name": "stdout",
     "output_type": "stream",
     "text": [
      "Enter your First Name:Rajarathinam\n",
      "Enter your Last Name:Mayandi\n",
      "Mayandi Rajarathinam\n"
     ]
    }
   ],
   "source": [
    "#3. Write a Python program to accept the user's first and last name and then getting them printed in the reverse order \n",
    "#with a space between first name and last name.\n",
    "FName=input(\"Enter your First Name:\")\n",
    "LName=input(\"Enter your Last Name:\")\n",
    "print(LName+' '+FName)"
   ]
  },
  {
   "cell_type": "code",
   "execution_count": 37,
   "metadata": {},
   "outputs": [
    {
     "name": "stdout",
     "output_type": "stream",
     "text": [
      "Enter your Name:Rajarathinam Mayandi\n",
      "idnayaM manihtarajaR\n"
     ]
    }
   ],
   "source": [
    "Name=input(\"Enter your Name:\")\n",
    "RName=Name[::-1]\n",
    "print(RName)"
   ]
  },
  {
   "cell_type": "code",
   "execution_count": 49,
   "metadata": {},
   "outputs": [
    {
     "name": "stdout",
     "output_type": "stream",
     "text": [
      "Please enter the diameter of the sphere:12\n",
      "904.7786842338603\n"
     ]
    }
   ],
   "source": [
    "#4. Write a Python program to find the volume of a sphere with diameter 12 cm.\n",
    "import math\n",
    "dia=input(\"Please enter the diameter of the sphere:\")\n",
    "r=int(dia)/2\n",
    "a=4/3\n",
    "\n",
    "volume=a*math.pi*(r**3)\n",
    "print(volume)"
   ]
  },
  {
   "cell_type": "code",
   "execution_count": 52,
   "metadata": {},
   "outputs": [
    {
     "name": "stdout",
     "output_type": "stream",
     "text": [
      "Enter the list element:1,2,3,4,5,6,7,8,9\n",
      "['1', '2', '3', '4', '5', '6', '7', '8', '9']\n"
     ]
    }
   ],
   "source": [
    "#==========================================Assignmemnt2=====================================================================\n",
    "#1. Write a program which accepts a sequence of comma-separated numbers from console and generate a list.\n",
    "mylist=input(\"Enter the list element:\").split(\",\")\n",
    "print(mylist)"
   ]
  },
  {
   "cell_type": "code",
   "execution_count": 54,
   "metadata": {},
   "outputs": [
    {
     "data": {
      "text/plain": [
       "list"
      ]
     },
     "execution_count": 54,
     "metadata": {},
     "output_type": "execute_result"
    }
   ],
   "source": [
    "type(mylist)"
   ]
  },
  {
   "cell_type": "code",
   "execution_count": 53,
   "metadata": {},
   "outputs": [
    {
     "name": "stdout",
     "output_type": "stream",
     "text": [
      "\n",
      "*\n",
      "**\n",
      "***\n",
      "****\n",
      "*****\n",
      "****\n",
      "***\n",
      "**\n",
      "*\n"
     ]
    }
   ],
   "source": [
    "#2. Create the below pattern using nested for loop in Python.     \n",
    "#*  \n",
    "#* *  \n",
    "#* * *  \n",
    "#* * * *  \n",
    "#* * * * *  \n",
    "#* * * *  \n",
    "#* * *  \n",
    "#* * *\n",
    "\n",
    "n=6\n",
    "for i in list(range(int(n))) :\n",
    "    if int(n) >= int(i):\n",
    "        print('*'*int(i))\n",
    "        \n",
    "a=(list(range(5)))\n",
    "b=a.reverse()\n",
    "for i in a :\n",
    "    #print(i)\n",
    "    if int(i) > 0 :\n",
    "        print('*'*int(i))"
   ]
  },
  {
   "cell_type": "code",
   "execution_count": 55,
   "metadata": {},
   "outputs": [
    {
     "name": "stdout",
     "output_type": "stream",
     "text": [
      "AcadGild\n",
      "dliGdacA\n"
     ]
    }
   ],
   "source": [
    "#3. Write a Python program to reverse a word after accepting the input from the user\n",
    "txt=input()\n",
    "rtxt=txt[::-1]\n",
    "print(rtxt)"
   ]
  },
  {
   "cell_type": "code",
   "execution_count": 65,
   "metadata": {},
   "outputs": [
    {
     "name": "stdout",
     "output_type": "stream",
     "text": [
      "WE, THE PEOPLE OF INDIA, having solemnly resolved to constitute India into a SOVEREIGN,\n",
      "SOCIALIST, SECULAR, DEMOCRATIC REPUBLIC and to secure to all its citizens\n"
     ]
    }
   ],
   "source": [
    "# 4. Write a Python Program to print the given string in the format specified in the \n",
    "#sample output.  \n",
    "#WE, THE PEOPLE OF INDIA, having solemnly resolved to constitute India into a SOVEREIGN, \n",
    "#SOCIALIST, SECULAR, DEMOCRATIC REPUBLIC and to secure to all its citizens \n",
    "print(\"WE, THE PEOPLE OF INDIA, having solemnly resolved to constitute India into a SOVEREIGN,\\nSOCIALIST, SECULAR, DEMOCRATIC REPUBLIC and to secure to all its citizens\")"
   ]
  },
  {
   "cell_type": "code",
   "execution_count": 67,
   "metadata": {},
   "outputs": [
    {
     "name": "stdout",
     "output_type": "stream",
     "text": [
      "WE, THE PEOPLE OF INDIA,\n",
      "\thaving solemnly resolved to constitute India into a SOVEREIGN, !\n",
      "\t\tSOCIALIST, SECULAR, DEMOCRATIC\n",
      "\t\t\tREPUBLIC and to secure to all its citizens\n"
     ]
    }
   ],
   "source": [
    "#sample output.  \n",
    "#WE, THE PEOPLE OF INDIA,\n",
    "#       having solemnly resolved to constitute India into a SOVEREIGN, ! \n",
    "#           SOCIALIST, SECULAR, DEMOCRATIC \n",
    "#                REPUBLIC and to secure to all its citizens \n",
    "print(\"WE, THE PEOPLE OF INDIA,\\n\\thaving solemnly resolved to constitute India into a SOVEREIGN, !\\n\\t\\tSOCIALIST, SECULAR, DEMOCRATIC\\n\\t\\t\\tREPUBLIC and to secure to all its citizens\")"
   ]
  },
  {
   "cell_type": "code",
   "execution_count": 70,
   "metadata": {},
   "outputs": [
    {
     "name": "stdout",
     "output_type": "stream",
     "text": [
      "36\n"
     ]
    }
   ],
   "source": [
    "#======================================================Assignment3===========================================================\n",
    "#1.1 Write a Python Program to implement your own myreduce() function which works exactly like Python's built-in \n",
    "#function reduce()\n",
    "def sum(a1, b2): return a1 + b2\n",
    "\n",
    "def my_reduce(func, seq):\n",
    "     result = seq[0]\n",
    "     for i in seq[1:]:\n",
    "         result = func(result, i)\n",
    "     return result\n",
    " \n",
    " \n",
    "print(my_reduce(sum, [1, 2, 3, 4, 5, 6, 7, 8]))"
   ]
  },
  {
   "cell_type": "code",
   "execution_count": 35,
   "metadata": {},
   "outputs": [
    {
     "name": "stdout",
     "output_type": "stream",
     "text": [
      "[2, 4, 6, 8, 10, 12, 14, 16, 18, 20]\n"
     ]
    }
   ],
   "source": [
    "#1.2 Write a Python program to implement your own myfilter() function which works exactly like Python's built-in \n",
    "#function filter()\n",
    "def even_check(num):\n",
    "    if num%2 ==0:\n",
    "        return True\n",
    "def my_filter(func,lst):\n",
    "    list1=[]\n",
    "    for i in lst:\n",
    "        if even_check(i)==True:\n",
    "            list1.append(i)\n",
    "    return (list1)\n",
    "\n",
    "print(my_filter(even_check,range(1,21)))\n",
    "        "
   ]
  },
  {
   "cell_type": "code",
   "execution_count": 36,
   "metadata": {},
   "outputs": [
    {
     "data": {
      "text/plain": [
       "['A', 'C', 'A', 'D', 'G', 'I', 'L', 'D']"
      ]
     },
     "execution_count": 36,
     "metadata": {},
     "output_type": "execute_result"
    }
   ],
   "source": [
    "#2. Implement List comprehensions to produce the following lists. \n",
    "#Write List comprehensions to produce the following Lists \n",
    "\n",
    "#['A','C','A','D','G','I','L','D']\n",
    "#['x', 'xx', 'xxx', 'xxxx', 'y', 'yy', 'yyy', 'yyyy', 'z', 'zz', 'zzz', 'zzzz'] \n",
    "#['x', 'y', 'z', 'xx', 'yy', 'zz', 'xxx', 'yyy', 'zzz', 'xxxx', 'yyyy', 'zzzz'] \n",
    "#[[2], [3], [4], [3], [4], [5], [4], [5], [6]] [[2, 3, 4, 5], [3, 4, 5, 6],[4, 5, 6, 7], [5, 6, 7, 8]]  \n",
    "#[(1, 1), (2, 1), (3, 1), (1, 2), (2, 2), (3, 2), (1, 3), (2, 3), (3, 3)] \n",
    "\n",
    "list_comp=[]\n",
    "for i in 'ACADGILD':\n",
    "    list_comp.append(i)\n",
    "list_comp"
   ]
  },
  {
   "cell_type": "code",
   "execution_count": 41,
   "metadata": {},
   "outputs": [
    {
     "data": {
      "text/plain": [
       "['x', 'xx', 'xxx', 'xxxx', 'y', 'yy', 'yyy', 'yyyy', 'z', 'zz', 'zzz', 'zzzz']"
      ]
     },
     "execution_count": 41,
     "metadata": {},
     "output_type": "execute_result"
    }
   ],
   "source": [
    "#['x', 'xx', 'xxx', 'xxxx', 'y', 'yy', 'yyy', 'yyyy', 'z', 'zz', 'zzz', 'zzzz'] \n",
    "list1=['x','y','z']\n",
    "list2=[1,2,3,4]\n",
    "list3=[]\n",
    "for i in list1:\n",
    "    for j in list2:\n",
    "        list3.append(i*j)\n",
    "list3"
   ]
  },
  {
   "cell_type": "code",
   "execution_count": 42,
   "metadata": {},
   "outputs": [
    {
     "data": {
      "text/plain": [
       "['x', 'y', 'z', 'xx', 'yy', 'zz', 'xxx', 'yyy', 'zzz', 'xxxx', 'yyyy', 'zzzz']"
      ]
     },
     "execution_count": 42,
     "metadata": {},
     "output_type": "execute_result"
    }
   ],
   "source": [
    "#['x', 'y', 'z', 'xx', 'yy', 'zz', 'xxx', 'yyy', 'zzz', 'xxxx', 'yyyy', 'zzzz'] \n",
    "list2=['x','y','z']\n",
    "list1=[1,2,3,4]\n",
    "list3=[]\n",
    "for i in list1:\n",
    "    for j in list2:\n",
    "        list3.append(i*j)\n",
    "list3"
   ]
  },
  {
   "cell_type": "code",
   "execution_count": 8,
   "metadata": {},
   "outputs": [
    {
     "data": {
      "text/plain": [
       "[[2], [3], [4], [3], [4], [5], [4], [5], [6]]"
      ]
     },
     "execution_count": 8,
     "metadata": {},
     "output_type": "execute_result"
    }
   ],
   "source": [
    "#[[2], [3], [4], [3], [4], [5], [4], [5], [6]]\n",
    "\n",
    "list7=[2,3,4]\n",
    "list8=[[i+n] for i in list7 for n in range(0,3)]\n",
    "list8"
   ]
  },
  {
   "cell_type": "code",
   "execution_count": 7,
   "metadata": {},
   "outputs": [
    {
     "data": {
      "text/plain": [
       "[[2, 3, 4, 5], [3, 4, 5, 6], [4, 5, 6, 7], [5, 6, 7, 8]]"
      ]
     },
     "execution_count": 7,
     "metadata": {},
     "output_type": "execute_result"
    }
   ],
   "source": [
    "#[[2, 3, 4, 5], [3, 4, 5, 6],[4, 5, 6, 7], [5, 6, 7, 8]]\n",
    "list5=[2,3,4,5]\n",
    "list6=[[i+n for i in list5] for n in range(0,4)]\n",
    "list6"
   ]
  },
  {
   "cell_type": "code",
   "execution_count": 44,
   "metadata": {},
   "outputs": [
    {
     "data": {
      "text/plain": [
       "[(1, 1), (1, 2), (1, 3), (2, 1), (2, 2), (2, 3), (3, 1), (3, 2), (3, 3)]"
      ]
     },
     "execution_count": 44,
     "metadata": {},
     "output_type": "execute_result"
    }
   ],
   "source": [
    "#[(1, 1), (2, 1), (3, 1), (1, 2), (2, 2), (3, 2), (1, 3), (2, 3), (3, 3)] \n",
    "list1=[1,2,3]\n",
    "list2=[1,2,3]\n",
    "list3=[]\n",
    "for i in list1:\n",
    "    for j in list2:\n",
    "        k=(i,j)\n",
    "        list3.append(k)\n",
    "list3"
   ]
  },
  {
   "cell_type": "code",
   "execution_count": 21,
   "metadata": {},
   "outputs": [
    {
     "name": "stdout",
     "output_type": "stream",
     "text": [
      "ram,raja,rajarathinam,riyan\n"
     ]
    },
    {
     "data": {
      "text/plain": [
       "'rajarathinam'"
      ]
     },
     "execution_count": 21,
     "metadata": {},
     "output_type": "execute_result"
    }
   ],
   "source": [
    "#3. Implement a function longestWord() that takes a list of words and returns the longest one.  \n",
    "def longestWord():\n",
    "    wordlist=input().split(',')\n",
    "    #print(wordlist)\n",
    "    lenword=[]\n",
    "    for i in wordlist:\n",
    "        lenword.append(len(i))\n",
    "    #print(lenword)\n",
    "    return wordlist[lenword.index(max(lenword))]\n",
    "\n",
    "\n",
    "longestWord()"
   ]
  },
  {
   "cell_type": "code",
   "execution_count": 13,
   "metadata": {},
   "outputs": [
    {
     "name": "stdout",
     "output_type": "stream",
     "text": [
      "4.47213595499958\n"
     ]
    }
   ],
   "source": [
    "#====================================================Assignment4============================================================\n",
    "#1.1 Write a Python Program(with class concepts) to find the area of the triangle using the below formula.  \n",
    "#area = (s*(s-a)*(s-b)*(s-c)) ** 0.5  Function to take the length of the sides of triangle from user should be defined \n",
    "#in the parent class and function to calculate the area should be defined in subclass.\n",
    "\n",
    "class triangle:\n",
    "    def __init__(self, a, b, c):\n",
    "        self.a = a\n",
    "        self.b = b\n",
    "        self.c = c\n",
    "    def perimeter(self):\n",
    "        self.s=(self.a+self.b+self.c)/2\n",
    "        return self.s\n",
    "    \n",
    "class area(triangle):\n",
    "\n",
    "    def __float__(self, a, b, c):\n",
    "        triangle.__init__(self,a, b, c)\n",
    "    def area(self):\n",
    "        self.s=(self.a+self.b+self.c)/2\n",
    "        self.ar=(self.s*(self.s-self.a)*(self.s-self.b)*(self.s-self.c)) ** 0.5\n",
    "        return self.ar\n",
    "    \n",
    "#x=triangle(3,3,4)\n",
    "y=area(3,3,4)\n",
    "#print(y.perimeter())\n",
    "print(y.area())\n"
   ]
  },
  {
   "cell_type": "code",
   "execution_count": 18,
   "metadata": {},
   "outputs": [
    {
     "name": "stdout",
     "output_type": "stream",
     "text": [
      "Enter words: raja rethinam riyan commu sd fr gt ghghg\n",
      "Length: 4\n",
      "Words longer than 4 are raja, rethinam, riyan, commu, ghghg.\n"
     ]
    }
   ],
   "source": [
    "#1.2 Write a function filter_long_words() that takes a list of words and an integer n and returns the list of words that are \n",
    "#longer than n. \n",
    "def filter_long_words(wordlist, length):\n",
    "    return (word for word in wordlist if len(word) >= length)\n",
    "def mainrun():\n",
    "    words = input(\"Enter words: \").split()\n",
    "    length = int(input(\"Length: \"))\n",
    "    print(\"Words longer than {} are {}.\".format(length,\n",
    "          ', '.join(filter_long_words(words, length))))\n",
    "mainrun()"
   ]
  },
  {
   "cell_type": "code",
   "execution_count": 23,
   "metadata": {},
   "outputs": [
    {
     "name": "stdout",
     "output_type": "stream",
     "text": [
      "this,is,good,day\n"
     ]
    },
    {
     "data": {
      "text/plain": [
       "[4, 2, 4, 3]"
      ]
     },
     "execution_count": 23,
     "metadata": {},
     "output_type": "execute_result"
    }
   ],
   "source": [
    "#2.1 Write a Python program using function concept that maps list of words into a list of integers \n",
    "#representing the lengths of the corresponding words \n",
    "#Hint: If a list [ ab,cde,erty] is passed on to the python function output should come as [2,3,4]  \n",
    "#Here 2,3 and 4 are the lengths of the words in the list\n",
    "\n",
    "def longestWord():\n",
    "    wordlist=input().split(',')\n",
    "    \n",
    "    lenword=[]\n",
    "    for i in wordlist:\n",
    "        lenword.append(len(i))\n",
    "    #print(lenword)\n",
    "    #return wordlist[lenword.index(max(lenword))]\n",
    "    return lenword\n",
    "\n",
    "\n",
    "longestWord()"
   ]
  },
  {
   "cell_type": "code",
   "execution_count": 10,
   "metadata": {},
   "outputs": [
    {
     "name": "stdout",
     "output_type": "stream",
     "text": [
      "Enter the char to be verified:a\n"
     ]
    },
    {
     "data": {
      "text/plain": [
       "True"
      ]
     },
     "execution_count": 10,
     "metadata": {},
     "output_type": "execute_result"
    }
   ],
   "source": [
    "#2.2 Write a Python function which takes a character (i.e. a string of length 1) and \n",
    "#returns True if it is a vowel, False otherwise\n",
    "def funVowels(char):\n",
    "    vowels=['a','e','i','o','u']\n",
    "    if(char in vowels):\n",
    "        return True\n",
    "    else:\n",
    "        return False\n",
    "\n",
    "funVowels(input(\"Enter the char to be verified:\"))"
   ]
  },
  {
   "cell_type": "code",
   "execution_count": 14,
   "metadata": {},
   "outputs": [
    {
     "name": "stdout",
     "output_type": "stream",
     "text": [
      "Please enter neumerator: 11\n",
      "Please enter denominator: 0\n",
      "Exception has occured ! division by zero\n",
      "Try again-Please enter Valid values\n"
     ]
    }
   ],
   "source": [
    "#====================================================Assignment5============================================================\n",
    "#Problem1\n",
    "    try:\n",
    "            val1 = int(input(\"Please enter neumerator: \"))\n",
    "            val2 = int(input(\"Please enter denominator: \"))\n",
    "            val = val1/val2\n",
    "            print(\"The output of val1/val2 :\", val)\n",
    "        except Exception as Exp:\n",
    "            print(\"Exception has occured !\",Exp)\n",
    "            print(\"Try again-Please enter Valid values\")"
   ]
  },
  {
   "cell_type": "code",
   "execution_count": 15,
   "metadata": {},
   "outputs": [],
   "source": [
    "#Problem1\n",
    "#Exception Handling in function\n",
    "def askint(val1,val2):\n",
    "        try:\n",
    "            val = val1/val2\n",
    "            print(\"The output of val1/val2 :\", val)\n",
    "        except Exception as Exp:\n",
    "            print(\"Exception has occured !\",Exp)\n",
    "            print(\"Try again-Please enter Valid values\")"
   ]
  },
  {
   "cell_type": "code",
   "execution_count": 17,
   "metadata": {},
   "outputs": [
    {
     "name": "stdout",
     "output_type": "stream",
     "text": [
      "Exception has occured ! division by zero\n",
      "Try again-Please enter Valid values\n"
     ]
    }
   ],
   "source": [
    "askint(11,0)"
   ]
  },
  {
   "cell_type": "code",
   "execution_count": 42,
   "metadata": {},
   "outputs": [
    {
     "name": "stdout",
     "output_type": "stream",
     "text": [
      "Americans play Baseball\n",
      "Americans play Cricket\n",
      "Americans watch Baseball\n",
      "Americans watch Cricket\n",
      "Indians play Baseball\n",
      "Indians play Cricket\n",
      "Indians watch Baseball\n",
      "Indians watch Cricket\n"
     ]
    }
   ],
   "source": [
    "#Problem2\n",
    "subjects=[\"Americans\",\"Indians\"]\n",
    "verbs=[\"play\",\"watch\"]\n",
    "objects=[\"Baseball\",\"Cricket\"]\n",
    "for i in subjects :\n",
    "    \n",
    "    for j in verbs :\n",
    "        \n",
    "        for k in objects :\n",
    "            print(i+' '+j+' '+k)"
   ]
  }
 ],
 "metadata": {
  "kernelspec": {
   "display_name": "Python 3",
   "language": "python",
   "name": "python3"
  },
  "language_info": {
   "codemirror_mode": {
    "name": "ipython",
    "version": 3
   },
   "file_extension": ".py",
   "mimetype": "text/x-python",
   "name": "python",
   "nbconvert_exporter": "python",
   "pygments_lexer": "ipython3",
   "version": "3.7.3"
  }
 },
 "nbformat": 4,
 "nbformat_minor": 2
}
